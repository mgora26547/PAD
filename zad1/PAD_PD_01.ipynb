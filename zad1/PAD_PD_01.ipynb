{
  "nbformat": 4,
  "nbformat_minor": 0,
  "metadata": {
    "colab": {
      "name": "PAD_PD_01.ipynb",
      "provenance": [],
      "collapsed_sections": []
    },
    "kernelspec": {
      "name": "python3",
      "display_name": "Python 3"
    },
    "language_info": {
      "name": "python"
    }
  },
  "cells": [
    {
      "cell_type": "markdown",
      "source": [
        "Zadanie 1"
      ],
      "metadata": {
        "id": "Wvvf9yHcEG6d"
      }
    },
    {
      "cell_type": "code",
      "execution_count": 6,
      "metadata": {
        "id": "12oR0aYp557J"
      },
      "outputs": [],
      "source": [
        "class animal:\n",
        "  def __init__(self, gender=\"Female\", genus=None):\n",
        "    self.isAlive = True\n",
        "    self.gender = gender\n",
        "    self.genus = genus\n",
        "  \n",
        "\n",
        "  def breed(self, partner):\n",
        "    try:\n",
        "      if self.gender == \"Female\" and partner.gender == \"Male\" and self.genus == partner.genus:\n",
        "        return animal(genus=self.genus)\n",
        "      else:\n",
        "        raise AttributeError\n",
        "    except AttributeError:\n",
        "      print(\"attribute not found\")\n",
        "\n",
        "class dog(animal):\n",
        "  def __init__(self, gender=\"Female\"):\n",
        "    super().__init__(gender)\n",
        "    self.genus = \"Canis\"\n",
        "\n",
        "  def breed(self, partner):\n",
        "    result = super().breed(partner)\n",
        "    if result:\n",
        "      return dog()\n",
        "\n",
        "  def woof(self):\n",
        "    return \"woof woof\"\n",
        "\n",
        "\n",
        "class cat(animal):\n",
        "  def __init__(self, gender=\"Female\"):\n",
        "    super().__init__(gender)\n",
        "    self.genus = \"Felis\"\n",
        "\n",
        "  def breed(self, partner):\n",
        "    result = super().breed(partner)\n",
        "    if result:\n",
        "      return cat()\n",
        "\n",
        "  def purr(self):\n",
        "    return \"purr\""
      ]
    },
    {
      "cell_type": "code",
      "source": [
        "female_cat = cat()\n",
        "male_cat = cat(gender=\"Male\")\n",
        "new_cat = female_cat.breed(male_cat)\n",
        "new_cat.purr()"
      ],
      "metadata": {
        "colab": {
          "base_uri": "https://localhost:8080/",
          "height": 35
        },
        "id": "rd1sCznp97kl",
        "outputId": "6cfe53dd-e8aa-45dd-95a0-680e2c9ae666"
      },
      "execution_count": 9,
      "outputs": [
        {
          "output_type": "execute_result",
          "data": {
            "text/plain": [
              "'purr'"
            ],
            "application/vnd.google.colaboratory.intrinsic+json": {
              "type": "string"
            }
          },
          "metadata": {},
          "execution_count": 9
        }
      ]
    },
    {
      "cell_type": "code",
      "source": [
        "female_dog = dog()\n",
        "male_dog = dog(gender=\"Male\")\n",
        "new_dog = female_dog.breed(male_dog)\n",
        "new_dog.woof()"
      ],
      "metadata": {
        "colab": {
          "base_uri": "https://localhost:8080/",
          "height": 35
        },
        "id": "reaw34UPAktt",
        "outputId": "d247415a-936e-4846-b17b-072b1cd9691f"
      },
      "execution_count": 10,
      "outputs": [
        {
          "output_type": "execute_result",
          "data": {
            "text/plain": [
              "'woof woof'"
            ],
            "application/vnd.google.colaboratory.intrinsic+json": {
              "type": "string"
            }
          },
          "metadata": {},
          "execution_count": 10
        }
      ]
    },
    {
      "cell_type": "code",
      "source": [
        "female_dog.breed(male_cat)"
      ],
      "metadata": {
        "colab": {
          "base_uri": "https://localhost:8080/"
        },
        "id": "tKAQpaYURnRa",
        "outputId": "c37eb8aa-06d8-4225-e185-c2bdcce7d149"
      },
      "execution_count": 11,
      "outputs": [
        {
          "output_type": "stream",
          "name": "stdout",
          "text": [
            "attribute not found\n"
          ]
        }
      ]
    },
    {
      "cell_type": "code",
      "source": [
        "male_dog.breed(male_dog)"
      ],
      "metadata": {
        "colab": {
          "base_uri": "https://localhost:8080/"
        },
        "id": "_rm-QdELRwtR",
        "outputId": "722bd0f4-1621-46ef-8e2a-042a47ba775c"
      },
      "execution_count": 12,
      "outputs": [
        {
          "output_type": "stream",
          "name": "stdout",
          "text": [
            "attribute not found\n"
          ]
        }
      ]
    },
    {
      "cell_type": "markdown",
      "source": [
        "**Zadanie 2**"
      ],
      "metadata": {
        "id": "IM-mwn0EEPrU"
      }
    },
    {
      "cell_type": "code",
      "source": [
        "class worker():\n",
        "  def __init__(self, name, age, salary):\n",
        "    self.name = name\n",
        "    self.age = age\n",
        "    self.salary = salary\n",
        "\n",
        "def avg_salary(workers):\n",
        "  sum = 0\n",
        "  try:\n",
        "    for worker in workers:\n",
        "      sum += worker.salary\n",
        "    return sum/len(workers)\n",
        "  except ZeroDivisionError:\n",
        "    return 0\n",
        "\n",
        "def compare_avg_salary(workers):\n",
        "  under_30 = [worker for worker in workers if worker.age < 30]\n",
        "  above_30 = [worker for worker in workers if worker.age > 30]\n",
        "  print(f\"Average salary for workers aged below 30: {avg_salary(under_30)}\")\n",
        "  print(f\"Average salary for workers aged above 30: {avg_salary(above_30)}\")"
      ],
      "metadata": {
        "id": "l2lSiNf0EOd-"
      },
      "execution_count": 13,
      "outputs": []
    },
    {
      "cell_type": "code",
      "source": [
        "workers = []\n",
        "workers.append(worker(\"Adam\", 39, 1500))\n",
        "workers.append(worker(\"Anna\", 41, 1700))\n",
        "workers.append(worker(\"Błażej\", 32, 1800))\n",
        "workers.append(worker(\"Beata\", 30, 1600))\n",
        "workers.append(worker(\"Czesław\", 42, 2000))\n",
        "workers.append(worker(\"Cecylia\", 39, 2100))\n",
        "workers.append(worker(\"Daniel\", 46, 1900))\n",
        "\n",
        "print(avg_salary(workers))\n",
        "compare_avg_salary(workers)"
      ],
      "metadata": {
        "colab": {
          "base_uri": "https://localhost:8080/"
        },
        "id": "zqZLeU2jHPyV",
        "outputId": "8c3e7d94-6640-4855-d9d1-ee724baeed7f"
      },
      "execution_count": 14,
      "outputs": [
        {
          "output_type": "stream",
          "name": "stdout",
          "text": [
            "1800.0\n",
            "Average salary for workers aged below 30: 0\n",
            "Average salary for workers aged above 30: 1833.3333333333333\n"
          ]
        }
      ]
    }
  ]
}